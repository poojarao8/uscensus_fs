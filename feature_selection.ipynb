{
 "cells": [
  {
   "cell_type": "markdown",
   "metadata": {},
   "source": [
    "# Jupyter notebook implementing feature selection for US Census database.\n",
    "To run this file successfully, you will need to have the necessary data files in the same directory as this file."
   ]
  },
  {
   "cell_type": "markdown",
   "metadata": {},
   "source": [
    "# Step 1: Parse the file."
   ]
  },
  {
   "cell_type": "code",
   "execution_count": 77,
   "metadata": {},
   "outputs": [],
   "source": [
    "# This code parses the column headings\n",
    "\n",
    "import pandas as pd\n",
    "names = pd.read_csv('namesFile', delimiter='\\t',header=None)\n",
    "\n",
    "namesList = names[0].tolist()\n",
    "\n",
    "namesListFormatted = []\n",
    "dataTypeDict = {}\n",
    "\n",
    "for name in namesList:\n",
    "    split = name.split(\": \")\n",
    "    namesListFormatted.append(split[0])\n",
    "    values = split[1].split(\", \")\n",
    "    dataTypeDict[split[0]] = values\n",
    "\n",
    "output = 'income level'\n",
    "namesListFormatted.append(output)\n",
    "dataTypeDict[output] = [' 50000+.',' - 50000.']\n",
    "\n",
    "\n",
    "# namesListFormatted and dataTypeDict are now initialized with, respectively,\n",
    "# the feature names, and a dictionary of the possible values for each feature"
   ]
  },
  {
   "cell_type": "code",
   "execution_count": 78,
   "metadata": {},
   "outputs": [],
   "source": [
    "# read in the learning data from the csv file \n",
    "\n",
    "census = pd.read_csv(\"census_income_learn.csv\", names=namesListFormatted)"
   ]
  },
  {
   "cell_type": "code",
   "execution_count": 79,
   "metadata": {},
   "outputs": [],
   "source": [
    "# To get more information about the data\n",
    "#census.head()\n",
    "#census.info()"
   ]
  },
  {
   "cell_type": "markdown",
   "metadata": {},
   "source": [
    "# Step 2: Drop the rows with missing values."
   ]
  },
  {
   "cell_type": "code",
   "execution_count": 80,
   "metadata": {},
   "outputs": [],
   "source": [
    "# condition with df.values property\n",
    "mask = (census != ' ?')\n",
    "\n",
    "# new dataframe\n",
    "census_new = census[mask]\n",
    "\n",
    "# drop the values\n",
    "census = census_new.dropna()"
   ]
  },
  {
   "cell_type": "markdown",
   "metadata": {},
   "source": [
    "# Step 3: Divide the data into two subgroups - numerical and categorical."
   ]
  },
  {
   "cell_type": "code",
   "execution_count": 81,
   "metadata": {},
   "outputs": [
    {
     "data": {
      "text/html": [
       "<div>\n",
       "<style scoped>\n",
       "    .dataframe tbody tr th:only-of-type {\n",
       "        vertical-align: middle;\n",
       "    }\n",
       "\n",
       "    .dataframe tbody tr th {\n",
       "        vertical-align: top;\n",
       "    }\n",
       "\n",
       "    .dataframe thead th {\n",
       "        text-align: right;\n",
       "    }\n",
       "</style>\n",
       "<table border=\"1\" class=\"dataframe\">\n",
       "  <thead>\n",
       "    <tr style=\"text-align: right;\">\n",
       "      <th></th>\n",
       "      <th>age</th>\n",
       "      <th>wage per hour</th>\n",
       "      <th>capital gains</th>\n",
       "      <th>capital losses</th>\n",
       "      <th>dividends from stocks</th>\n",
       "      <th>instance weight</th>\n",
       "      <th>num persons worked for employer</th>\n",
       "      <th>weeks worked in year</th>\n",
       "    </tr>\n",
       "  </thead>\n",
       "  <tbody>\n",
       "    <tr>\n",
       "      <th>1</th>\n",
       "      <td>58</td>\n",
       "      <td>0</td>\n",
       "      <td>0</td>\n",
       "      <td>0</td>\n",
       "      <td>0</td>\n",
       "      <td>1053.55</td>\n",
       "      <td>1</td>\n",
       "      <td>52</td>\n",
       "    </tr>\n",
       "    <tr>\n",
       "      <th>3</th>\n",
       "      <td>9</td>\n",
       "      <td>0</td>\n",
       "      <td>0</td>\n",
       "      <td>0</td>\n",
       "      <td>0</td>\n",
       "      <td>1758.14</td>\n",
       "      <td>0</td>\n",
       "      <td>0</td>\n",
       "    </tr>\n",
       "    <tr>\n",
       "      <th>4</th>\n",
       "      <td>10</td>\n",
       "      <td>0</td>\n",
       "      <td>0</td>\n",
       "      <td>0</td>\n",
       "      <td>0</td>\n",
       "      <td>1069.16</td>\n",
       "      <td>0</td>\n",
       "      <td>0</td>\n",
       "    </tr>\n",
       "    <tr>\n",
       "      <th>6</th>\n",
       "      <td>42</td>\n",
       "      <td>0</td>\n",
       "      <td>5178</td>\n",
       "      <td>0</td>\n",
       "      <td>0</td>\n",
       "      <td>1535.86</td>\n",
       "      <td>6</td>\n",
       "      <td>52</td>\n",
       "    </tr>\n",
       "    <tr>\n",
       "      <th>9</th>\n",
       "      <td>34</td>\n",
       "      <td>0</td>\n",
       "      <td>0</td>\n",
       "      <td>0</td>\n",
       "      <td>0</td>\n",
       "      <td>1146.79</td>\n",
       "      <td>6</td>\n",
       "      <td>52</td>\n",
       "    </tr>\n",
       "    <tr>\n",
       "      <th>...</th>\n",
       "      <td>...</td>\n",
       "      <td>...</td>\n",
       "      <td>...</td>\n",
       "      <td>...</td>\n",
       "      <td>...</td>\n",
       "      <td>...</td>\n",
       "      <td>...</td>\n",
       "      <td>...</td>\n",
       "    </tr>\n",
       "    <tr>\n",
       "      <th>199509</th>\n",
       "      <td>47</td>\n",
       "      <td>0</td>\n",
       "      <td>0</td>\n",
       "      <td>0</td>\n",
       "      <td>0</td>\n",
       "      <td>2625.77</td>\n",
       "      <td>6</td>\n",
       "      <td>52</td>\n",
       "    </tr>\n",
       "    <tr>\n",
       "      <th>199510</th>\n",
       "      <td>25</td>\n",
       "      <td>0</td>\n",
       "      <td>0</td>\n",
       "      <td>0</td>\n",
       "      <td>0</td>\n",
       "      <td>2764.79</td>\n",
       "      <td>4</td>\n",
       "      <td>52</td>\n",
       "    </tr>\n",
       "    <tr>\n",
       "      <th>199514</th>\n",
       "      <td>51</td>\n",
       "      <td>0</td>\n",
       "      <td>0</td>\n",
       "      <td>0</td>\n",
       "      <td>0</td>\n",
       "      <td>1302.34</td>\n",
       "      <td>6</td>\n",
       "      <td>52</td>\n",
       "    </tr>\n",
       "    <tr>\n",
       "      <th>199516</th>\n",
       "      <td>3</td>\n",
       "      <td>0</td>\n",
       "      <td>0</td>\n",
       "      <td>0</td>\n",
       "      <td>0</td>\n",
       "      <td>2733.75</td>\n",
       "      <td>0</td>\n",
       "      <td>0</td>\n",
       "    </tr>\n",
       "    <tr>\n",
       "      <th>199519</th>\n",
       "      <td>65</td>\n",
       "      <td>0</td>\n",
       "      <td>6418</td>\n",
       "      <td>0</td>\n",
       "      <td>9</td>\n",
       "      <td>687.19</td>\n",
       "      <td>1</td>\n",
       "      <td>52</td>\n",
       "    </tr>\n",
       "  </tbody>\n",
       "</table>\n",
       "<p>95130 rows × 8 columns</p>\n",
       "</div>"
      ],
      "text/plain": [
       "        age  wage per hour  capital gains  capital losses  \\\n",
       "1        58              0              0               0   \n",
       "3         9              0              0               0   \n",
       "4        10              0              0               0   \n",
       "6        42              0           5178               0   \n",
       "9        34              0              0               0   \n",
       "...     ...            ...            ...             ...   \n",
       "199509   47              0              0               0   \n",
       "199510   25              0              0               0   \n",
       "199514   51              0              0               0   \n",
       "199516    3              0              0               0   \n",
       "199519   65              0           6418               0   \n",
       "\n",
       "        dividends from stocks  instance weight  \\\n",
       "1                           0          1053.55   \n",
       "3                           0          1758.14   \n",
       "4                           0          1069.16   \n",
       "6                           0          1535.86   \n",
       "9                           0          1146.79   \n",
       "...                       ...              ...   \n",
       "199509                      0          2625.77   \n",
       "199510                      0          2764.79   \n",
       "199514                      0          1302.34   \n",
       "199516                      0          2733.75   \n",
       "199519                      9           687.19   \n",
       "\n",
       "        num persons worked for employer  weeks worked in year  \n",
       "1                                     1                    52  \n",
       "3                                     0                     0  \n",
       "4                                     0                     0  \n",
       "6                                     6                    52  \n",
       "9                                     6                    52  \n",
       "...                                 ...                   ...  \n",
       "199509                                6                    52  \n",
       "199510                                4                    52  \n",
       "199514                                6                    52  \n",
       "199516                                0                     0  \n",
       "199519                                1                    52  \n",
       "\n",
       "[95130 rows x 8 columns]"
      ]
     },
     "execution_count": 81,
     "metadata": {},
     "output_type": "execute_result"
    }
   ],
   "source": [
    "# This separates the data into categorical and numerical values\n",
    "\n",
    "listNumCols = [] # list containing the column headings of numerical data\n",
    "listCatCols = [] # list containing the column headings of categorical data \n",
    "\n",
    "# Loop over the column names\n",
    "for i in census.columns:\n",
    "    \n",
    "    if(dataTypeDict[i]==['continuous.']):\n",
    "        # list of headers for numerica data\n",
    "        listNumCols.append(i)\n",
    "    else:\n",
    "        # list of headers for categorical data\n",
    "        listCatCols.append(i)\n",
    "\n",
    "census_num = census[listNumCols] # new df containing numerical data\n",
    "census_cat = census[listCatCols] # new df containing categorical data\n",
    "census_num"
   ]
  },
  {
   "cell_type": "markdown",
   "metadata": {},
   "source": [
    "# Test the normality of the numerical data."
   ]
  },
  {
   "cell_type": "code",
   "execution_count": 82,
   "metadata": {},
   "outputs": [
    {
     "name": "stderr",
     "output_type": "stream",
     "text": [
      "No handles with labels found to put in legend.\n"
     ]
    },
    {
     "data": {
      "image/png": "[encoded data removed]",
      "text/plain": [
       "<Figure size 432x288 with 1 Axes>"
      ]
     },
     "metadata": {
      "needs_background": "light"
     },
     "output_type": "display_data"
    }
   ],
   "source": [
    "# Test the normality of the data\n",
    "%matplotlib inline\n",
    "from matplotlib import pyplot\n",
    "\n",
    "#pyplot.hist(census_num['capital losses'],bins=40)\n",
    "pyplot.hist(census_num[listNumCols[5]],bins=40)\n",
    "#plt.xlabel('Features', fontsize = 16)\n",
    "#plt.ylabel('Feature Score', fontsize = 20)\n",
    "plt.legend(fontsize = 18)\n",
    "plt.xticks(fontsize = 18)\n",
    "plt.yticks(fontsize = 16)\n",
    "\n",
    "pyplot.locator_params(axis='x', nbins=5)\n",
    "pyplot.show()"
   ]
  },
  {
   "cell_type": "markdown",
   "metadata": {},
   "source": [
    "# Remove the duplicate data."
   ]
  },
  {
   "cell_type": "code",
   "execution_count": 47,
   "metadata": {},
   "outputs": [],
   "source": [
    "# Select duplicate rows except first occurrence based on all columns\n",
    "#duplicate_rows = census[census.duplicated()]\n",
    "\n",
    "# remove duplicate rows (not sure if this is working)\n",
    "#census = census.drop_duplicates()\n",
    "\n",
    "#print(census)"
   ]
  },
  {
   "cell_type": "markdown",
   "metadata": {},
   "source": [
    "# Step 4: Encode the categorical data and run Chi-squared on training data."
   ]
  },
  {
   "cell_type": "code",
   "execution_count": 83,
   "metadata": {},
   "outputs": [
    {
     "name": "stdout",
     "output_type": "stream",
     "text": [
      "[3.48221822e+02 6.97292325e+04 4.45700998e+02 1.48260814e+03\n",
      " 2.42617421e+01 1.42769669e+03 7.24174720e+02 5.55582486e+02\n",
      " 3.61636761e+01 1.72759189e+03 1.16501473e+03 1.21690902e+01\n",
      " 9.32123298e-02            nan 1.05620752e+03 3.74229678e-02\n",
      " 5.88567293e+01 3.29226088e+03 4.36115074e+02 1.19885147e+01\n",
      " 4.44015858e+00 2.56375995e+00 4.92960039e+01 3.17687463e-02\n",
      " 1.77681990e+03 4.58912538e+01 4.07139356e+01 7.61919607e+00\n",
      " 9.30159074e+00 2.34489662e+02 5.20511929e-01 8.77288795e+02\n",
      "            nan]\n"
     ]
    }
   ],
   "source": [
    "# Encode the categorical data here so the chi sqaured test can be used\n",
    "\n",
    "from sklearn import datasets\n",
    "from sklearn.feature_selection import chi2\n",
    "from sklearn.feature_selection import SelectKBest\n",
    "from sklearn.preprocessing import OrdinalEncoder, LabelEncoder\n",
    "\n",
    "\n",
    "X = census_cat.iloc[:,:-1] # independent variables\n",
    "y = census_cat.iloc[:,-1] # dependent variable\n",
    "\n",
    "# encoding the dependent variable\n",
    "le = LabelEncoder()\n",
    "le.fit(y)\n",
    "y_enc = le.transform(y)\n",
    "\n",
    "# encoding the categorical data to ordinal values\n",
    "oe = OrdinalEncoder()\n",
    "oe.fit(X) # fit the ordinal encoder\n",
    "X_enc = oe.transform(X)\n",
    "\n",
    "\n",
    "\n",
    "fs = SelectKBest(score_func=chi2,k=20)\n",
    "#print(X)\n",
    "# need to encode the features \n",
    "\n",
    "fit = fs.fit(X_enc, y_enc)\n",
    "fit.scores_\n",
    "X_fs = fs.fit_transform(X_enc,y_enc)\n",
    "print(fs.scores_) # chi-squared scores\n",
    "\n",
    "\n",
    "#X['year'].describe()\n",
    "#X['full or part time employment stat'].describe()"
   ]
  },
  {
   "cell_type": "markdown",
   "metadata": {},
   "source": [
    "# Step 5: Plot the scores from Chi-squared test."
   ]
  },
  {
   "cell_type": "code",
   "execution_count": null,
   "metadata": {},
   "outputs": [],
   "source": []
  },
  {
   "cell_type": "code",
   "execution_count": 85,
   "metadata": {},
   "outputs": [
    {
     "name": "stderr",
     "output_type": "stream",
     "text": [
      "No handles with labels found to put in legend.\n"
     ]
    },
    {
     "name": "stdout",
     "output_type": "stream",
     "text": [
      "Feature 0, class of worker : 348.221822\n",
      "Feature 2, detailed occupation recode : 445.700998\n",
      "Feature 3, education : 1482.608135\n",
      "Feature 4, enroll in edu inst last wk : 24.261742\n",
      "Feature 5, marital stat : 1427.696690\n",
      "Feature 6, major industry code : 724.174720\n",
      "Feature 7, major occupation code : 555.582486\n",
      "Feature 8, race : 36.163676\n",
      "Feature 9, hispanic origin : 1727.591888\n",
      "Feature 10, sex : 1165.014727\n",
      "Feature 11, member of a labor union : 12.169090\n",
      "Feature 12, reason for unemployment : 0.093212\n",
      "Feature 13, full or part time employment stat : nan\n",
      "Feature 14, tax filer stat : 1056.207522\n",
      "Feature 15, region of previous residence : 0.037423\n",
      "Feature 16, state of previous residence : 58.856729\n",
      "Feature 18, detailed household summary in household : 436.115074\n",
      "Feature 19, migration code-change in msa : 11.988515\n",
      "Feature 20, migration code-change in reg : 4.440159\n",
      "Feature 21, migration code-move within reg : 2.563760\n",
      "Feature 22, live in this house 1 year ago : 49.296004\n",
      "Feature 23, migration prev res in sunbelt : 0.031769\n",
      "Feature 24, family members under 18 : 1776.819903\n",
      "Feature 25, country of birth father : 45.891254\n",
      "Feature 26, country of birth mother : 40.713936\n",
      "Feature 27, country of birth self : 7.619196\n",
      "Feature 28, citizenship : 9.301591\n",
      "Feature 29, own business or self employed : 234.489662\n",
      "Feature 30, fill inc questionnaire for veteran's admin : 0.520512\n",
      "Feature 31, veterans benefits : 877.288795\n",
      "Feature 32, year : nan\n"
     ]
    },
    {
     "data": {
      "image/png": "[encoded data removed]",
      "text/plain": [
       "<Figure size 432x288 with 1 Axes>"
      ]
     },
     "metadata": {
      "needs_background": "light"
     },
     "output_type": "display_data"
    }
   ],
   "source": [
    "# what are scores for the features\n",
    "from matplotlib import pyplot\n",
    "\n",
    "for i in range(len(fs.scores_)):\n",
    "    print('Feature %d, %s : %f' % (i, census_cat.columns[i], fs.scores_[i]))\n",
    "\n",
    "# plot the scores\n",
    "pyplot.bar([i for i in range(len(fs.scores_))], fs.scores_)\n",
    "plt.xlabel('Features', fontsize = 16)\n",
    "plt.ylabel('Feature Score', fontsize = 20)\n",
    "plt.legend(fontsize = 18)\n",
    "plt.xticks(fontsize = 20)\n",
    "plt.yticks(fontsize = 20)\n",
    "pyplot.show()"
   ]
  },
  {
   "cell_type": "markdown",
   "metadata": {},
   "source": [
    "# Plot the p-value from the Chi-squared test."
   ]
  },
  {
   "cell_type": "code",
   "execution_count": null,
   "metadata": {},
   "outputs": [],
   "source": []
  },
  {
   "cell_type": "markdown",
   "metadata": {},
   "source": [
    "# Step 6: Run ANOVA on numerical data using the training sample."
   ]
  },
  {
   "cell_type": "code",
   "execution_count": 52,
   "metadata": {},
   "outputs": [],
   "source": [
    "# ANOVA f-test\n",
    "from sklearn.feature_selection import f_classif\n",
    "\n",
    "X_train = census_num.iloc[:,:] # continuous independent variables\n",
    "y_train = y_enc # dependent variable encoded with cat data\n",
    "\n",
    "# configure to select all features\n",
    "fs = SelectKBest(score_func=f_classif, k='all')\n",
    "\n",
    "# learn relationship from training data\n",
    "fs.fit(X_train, y_train)\n",
    "\n",
    "# transform train input data\n",
    "X_train_fs = fs.transform(X_train)\n",
    "\n",
    "\n",
    "# transform test input data\n",
    "#X_test_fs = fs.transform(X_test)"
   ]
  },
  {
   "cell_type": "markdown",
   "metadata": {},
   "source": [
    "# Plot the results."
   ]
  },
  {
   "cell_type": "code",
   "execution_count": 54,
   "metadata": {},
   "outputs": [
    {
     "name": "stderr",
     "output_type": "stream",
     "text": [
      "No handles with labels found to put in legend.\n"
     ]
    },
    {
     "name": "stdout",
     "output_type": "stream",
     "text": [
      "Feature 0 age : 1758.762734\n",
      "Feature 1 wage per hour : 36.403934\n",
      "Feature 2 capital gains : 5893.363346\n",
      "Feature 3 capital losses : 2304.009532\n",
      "Feature 4 dividends from stocks : 3224.038928\n",
      "Feature 5 instance weight : 27.212517\n",
      "Feature 6 num persons worked for employer : 4345.297611\n",
      "Feature 7 weeks worked in year : 6494.003538\n"
     ]
    },
    {
     "data": {
      "image/png": "[encoded data removed]",
      "text/plain": [
       "<Figure size 432x288 with 1 Axes>"
      ]
     },
     "metadata": {
      "needs_background": "light"
     },
     "output_type": "display_data"
    }
   ],
   "source": [
    "# Plot scores for the features\n",
    "\n",
    "from matplotlib import pyplot\n",
    "\n",
    "\n",
    "for i in range(len(fs.scores_)):\n",
    "    print('Feature %d %s : %f' % (i, census_num.columns[i], fs.scores_[i]))\n",
    "\n",
    "# plot the scores\n",
    "\n",
    "pyplot.bar([i for i in range(len(fs.scores_))], fs.scores_)\n",
    "#plt.xlabel()\n",
    "plt.xlabel('Features', fontsize = 16)\n",
    "plt.ylabel('Feature Score', fontsize = 20)\n",
    "plt.legend(fontsize = 18)\n",
    "plt.xticks(fontsize = 20)\n",
    "plt.yticks(fontsize = 20)\n",
    "pyplot.show()"
   ]
  },
  {
   "cell_type": "code",
   "execution_count": null,
   "metadata": {},
   "outputs": [],
   "source": [
    "# Plot the p-value"
   ]
  },
  {
   "cell_type": "code",
   "execution_count": null,
   "metadata": {},
   "outputs": [],
   "source": []
  },
  {
   "cell_type": "code",
   "execution_count": null,
   "metadata": {},
   "outputs": [],
   "source": []
  },
  {
   "cell_type": "code",
   "execution_count": null,
   "metadata": {},
   "outputs": [],
   "source": []
  }
 ],
 "metadata": {
  "kernelspec": {
   "display_name": "Python 3",
   "language": "python",
   "name": "python3"
  },
  "language_info": {
   "codemirror_mode": {
    "name": "ipython",
    "version": 3
   },
   "file_extension": ".py",
   "mimetype": "text/x-python",
   "name": "python",
   "nbconvert_exporter": "python",
   "pygments_lexer": "ipython3",
   "version": "3.8.8"
  }
 },
 "nbformat": 4,
 "nbformat_minor": 2
}
